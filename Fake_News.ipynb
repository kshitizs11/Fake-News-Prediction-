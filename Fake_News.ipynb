{
  "nbformat": 4,
  "nbformat_minor": 0,
  "metadata": {
    "colab": {
      "name": "Fake News.ipynb",
      "provenance": [],
      "collapsed_sections": [],
      "authorship_tag": "ABX9TyPVFKdgxgZzXniCcXVeRJY1",
      "include_colab_link": true
    },
    "kernelspec": {
      "name": "python3",
      "display_name": "Python 3"
    }
  },
  "cells": [
    {
      "cell_type": "markdown",
      "metadata": {
        "id": "view-in-github",
        "colab_type": "text"
      },
      "source": [
        "<a href=\"https://colab.research.google.com/github/kshitizs11/Fake-News-Prediction-/blob/main/Fake_News.ipynb\" target=\"_parent\"><img src=\"https://colab.research.google.com/assets/colab-badge.svg\" alt=\"Open In Colab\"/></a>"
      ]
    },
    {
      "cell_type": "code",
      "metadata": {
        "id": "KE7dI7SXJAHb",
        "outputId": "34b0472c-e3fa-4f47-9848-57b26002d90a",
        "colab": {
          "base_uri": "https://localhost:8080/",
          "height": 411
        }
      },
      "source": [
        "!wget \"https://www.dropbox.com/sh/sgz4z89q30rie8z/AAB7hz-vCInyEt3CSX_VJJsYa?dl=0\""
      ],
      "execution_count": null,
      "outputs": [
        {
          "output_type": "stream",
          "text": [
            "--2020-09-29 06:33:08--  https://www.dropbox.com/sh/sgz4z89q30rie8z/AAB7hz-vCInyEt3CSX_VJJsYa?dl=0\n",
            "Resolving www.dropbox.com (www.dropbox.com)... 162.125.3.1, 2620:100:6018:1::a27d:301\n",
            "Connecting to www.dropbox.com (www.dropbox.com)|162.125.3.1|:443... connected.\n",
            "HTTP request sent, awaiting response... 301 Moved Permanently\n",
            "Location: /sh/raw/sgz4z89q30rie8z/AAB7hz-vCInyEt3CSX_VJJsYa [following]\n",
            "--2020-09-29 06:33:09--  https://www.dropbox.com/sh/raw/sgz4z89q30rie8z/AAB7hz-vCInyEt3CSX_VJJsYa\n",
            "Reusing existing connection to www.dropbox.com:443.\n",
            "HTTP request sent, awaiting response... 302 Found\n",
            "Location: https://uc131d4bd8fe1e6d31dc872c5301.dl.dropboxusercontent.com/zip_download_get/AjuzSU7BkcOhd06KnnkA3ahUROmmEAnTlopUX6NbNQ8tiv-nPHm9eyF8AXswDtP3_3jpQB5Gy-lJ_Kx-sDB22CdNULPKTrEJXUVJOKod1PDJ-g [following]\n",
            "--2020-09-29 06:33:09--  https://uc131d4bd8fe1e6d31dc872c5301.dl.dropboxusercontent.com/zip_download_get/AjuzSU7BkcOhd06KnnkA3ahUROmmEAnTlopUX6NbNQ8tiv-nPHm9eyF8AXswDtP3_3jpQB5Gy-lJ_Kx-sDB22CdNULPKTrEJXUVJOKod1PDJ-g\n",
            "Resolving uc131d4bd8fe1e6d31dc872c5301.dl.dropboxusercontent.com (uc131d4bd8fe1e6d31dc872c5301.dl.dropboxusercontent.com)... 162.125.3.15, 2620:100:6018:15::a27d:30f\n",
            "Connecting to uc131d4bd8fe1e6d31dc872c5301.dl.dropboxusercontent.com (uc131d4bd8fe1e6d31dc872c5301.dl.dropboxusercontent.com)|162.125.3.15|:443... connected.\n",
            "HTTP request sent, awaiting response... 200 OK\n",
            "Length: 332258102 (317M) [application/zip]\n",
            "Saving to: ‘AAB7hz-vCInyEt3CSX_VJJsYa?dl=0’\n",
            "\n",
            "AAB7hz-vCInyEt3CSX_ 100%[===================>] 316.87M  47.9MB/s    in 6.2s    \n",
            "\n",
            "2020-09-29 06:33:16 (51.2 MB/s) - ‘AAB7hz-vCInyEt3CSX_VJJsYa?dl=0’ saved [332258102/332258102]\n",
            "\n"
          ],
          "name": "stdout"
        }
      ]
    },
    {
      "cell_type": "code",
      "metadata": {
        "id": "O0J6iMxoJJND",
        "outputId": "f24cd01d-56c5-4222-ac7a-6512ed14a434",
        "colab": {
          "base_uri": "https://localhost:8080/",
          "height": 241
        }
      },
      "source": [
        "!unzip AAB7hz-vCInyEt3CSX_VJJsYa?dl=0"
      ],
      "execution_count": null,
      "outputs": [
        {
          "output_type": "stream",
          "text": [
            "Archive:  AAB7hz-vCInyEt3CSX_VJJsYa?dl=0\n",
            "warning:  stripped absolute path spec from /\n",
            "mapname:  conversion of  failed\n",
            " extracting: test.csv                \n",
            " extracting: train.csv               \n",
            " extracting: Fake News.ipynb         \n",
            "   creating: 8542_11957_compressed_glove.6B.50d.txt/\n",
            " extracting: .ipynb_checkpoints/Fake News-checkpoint.ipynb  \n",
            " extracting: fake_news_classification_ai_challenge-dataset.zip  \n",
            " extracting: 8542_11957_compressed_glove.6B.50d.txt/glove.6B.50d.txt  \n",
            "\n",
            "1 archive had fatal errors.\n"
          ],
          "name": "stdout"
        }
      ]
    },
    {
      "cell_type": "code",
      "metadata": {
        "id": "ERTiDIfZJk9G"
      },
      "source": [
        "import pandas as pd\n",
        "import numpy as np"
      ],
      "execution_count": null,
      "outputs": []
    },
    {
      "cell_type": "code",
      "metadata": {
        "id": "0KWau9UNJ6WU"
      },
      "source": [
        "import gensim\n",
        "from gensim.models import KeyedVectors\n",
        "from sklearn.metrics.pairwise import cosine_similarity\n",
        "import nltk\n",
        "import matplotlib.pyplot as plt"
      ],
      "execution_count": null,
      "outputs": []
    },
    {
      "cell_type": "code",
      "metadata": {
        "id": "AJsZpBHrOlz6"
      },
      "source": [
        "train = pd.read_csv(\"train.csv\")\n",
        "test = pd.read_csv(\"test.csv\")"
      ],
      "execution_count": null,
      "outputs": []
    },
    {
      "cell_type": "code",
      "metadata": {
        "id": "dsbWHn9QOo4F",
        "outputId": "4430792e-6922-4efa-edc4-d541f4b2379f",
        "colab": {
          "base_uri": "https://localhost:8080/",
          "height": 614
        }
      },
      "source": [
        "train"
      ],
      "execution_count": null,
      "outputs": [
        {
          "output_type": "execute_result",
          "data": {
            "text/html": [
              "<div>\n",
              "<style scoped>\n",
              "    .dataframe tbody tr th:only-of-type {\n",
              "        vertical-align: middle;\n",
              "    }\n",
              "\n",
              "    .dataframe tbody tr th {\n",
              "        vertical-align: top;\n",
              "    }\n",
              "\n",
              "    .dataframe thead th {\n",
              "        text-align: right;\n",
              "    }\n",
              "</style>\n",
              "<table border=\"1\" class=\"dataframe\">\n",
              "  <thead>\n",
              "    <tr style=\"text-align: right;\">\n",
              "      <th></th>\n",
              "      <th>index</th>\n",
              "      <th>title</th>\n",
              "      <th>text</th>\n",
              "      <th>subject</th>\n",
              "      <th>date</th>\n",
              "      <th>class</th>\n",
              "      <th>Unnamed: 6</th>\n",
              "    </tr>\n",
              "  </thead>\n",
              "  <tbody>\n",
              "    <tr>\n",
              "      <th>0</th>\n",
              "      <td>0</td>\n",
              "      <td>PRESIDENT TRUMP Explains New “America First” R...</td>\n",
              "      <td>That s what we re talking about! Another campa...</td>\n",
              "      <td>politics</td>\n",
              "      <td>Aug 2, 2017</td>\n",
              "      <td>Fake</td>\n",
              "      <td>NaN</td>\n",
              "    </tr>\n",
              "    <tr>\n",
              "      <th>1</th>\n",
              "      <td>1</td>\n",
              "      <td>TERMINALLY ILL FORMER MISS WI: “Until my last ...</td>\n",
              "      <td>How is it that Sean Hannity is the only media ...</td>\n",
              "      <td>politics</td>\n",
              "      <td>Oct 4, 2016</td>\n",
              "      <td>Fake</td>\n",
              "      <td>NaN</td>\n",
              "    </tr>\n",
              "    <tr>\n",
              "      <th>2</th>\n",
              "      <td>2</td>\n",
              "      <td>Cruz Humiliated By Moderator After Lie About ...</td>\n",
              "      <td>Almost immediately after learning that longtim...</td>\n",
              "      <td>News</td>\n",
              "      <td>February 13, 2016</td>\n",
              "      <td>Fake</td>\n",
              "      <td>NaN</td>\n",
              "    </tr>\n",
              "    <tr>\n",
              "      <th>3</th>\n",
              "      <td>3</td>\n",
              "      <td>Russia revels in Trump victory, looks to sanct...</td>\n",
              "      <td>MOSCOW (Reuters) - For all their mutual praise...</td>\n",
              "      <td>politicsNews</td>\n",
              "      <td>November 9, 2016</td>\n",
              "      <td>Real</td>\n",
              "      <td>NaN</td>\n",
              "    </tr>\n",
              "    <tr>\n",
              "      <th>4</th>\n",
              "      <td>4</td>\n",
              "      <td>Trump's bid to open U.S. monuments to developm...</td>\n",
              "      <td>WASHINGTON (Reuters) - The Trump administratio...</td>\n",
              "      <td>politicsNews</td>\n",
              "      <td>May 26, 2017</td>\n",
              "      <td>Real</td>\n",
              "      <td>NaN</td>\n",
              "    </tr>\n",
              "    <tr>\n",
              "      <th>...</th>\n",
              "      <td>...</td>\n",
              "      <td>...</td>\n",
              "      <td>...</td>\n",
              "      <td>...</td>\n",
              "      <td>...</td>\n",
              "      <td>...</td>\n",
              "      <td>...</td>\n",
              "    </tr>\n",
              "    <tr>\n",
              "      <th>39995</th>\n",
              "      <td>39995</td>\n",
              "      <td>U.S. officials step up rhetoric on Russia link...</td>\n",
              "      <td>(Reuters) - Republican vice presidential candi...</td>\n",
              "      <td>politicsNews</td>\n",
              "      <td>October 16, 2016</td>\n",
              "      <td>Real</td>\n",
              "      <td>NaN</td>\n",
              "    </tr>\n",
              "    <tr>\n",
              "      <th>39996</th>\n",
              "      <td>39996</td>\n",
              "      <td>McDonald’s Manager To Hispanic Customer: ‘Can...</td>\n",
              "      <td>An employee working at a North Carolina McDona...</td>\n",
              "      <td>News</td>\n",
              "      <td>September 13, 2017</td>\n",
              "      <td>Fake</td>\n",
              "      <td>NaN</td>\n",
              "    </tr>\n",
              "    <tr>\n",
              "      <th>39997</th>\n",
              "      <td>39997</td>\n",
              "      <td>SMUG LIBERAL LAW PROFESSOR SHUT DOWN BY TUCKER...</td>\n",
              "      <td>Tucker to sanctuary city supporter: how did a ...</td>\n",
              "      <td>politics</td>\n",
              "      <td>Mar 29, 2017</td>\n",
              "      <td>Fake</td>\n",
              "      <td>NaN</td>\n",
              "    </tr>\n",
              "    <tr>\n",
              "      <th>39998</th>\n",
              "      <td>39998</td>\n",
              "      <td>Robert Parry: Sorting Out the Russia Mess</td>\n",
              "      <td>Consortium News Exclusive: The U.S. mainstream...</td>\n",
              "      <td>US_News</td>\n",
              "      <td>October 31, 2017</td>\n",
              "      <td>Fake</td>\n",
              "      <td>NaN</td>\n",
              "    </tr>\n",
              "    <tr>\n",
              "      <th>39999</th>\n",
              "      <td>39999</td>\n",
              "      <td>Israeli missiles hit military post near Damasc...</td>\n",
              "      <td>BEIRUT (Reuters) - Israeli missiles struck a m...</td>\n",
              "      <td>worldnews</td>\n",
              "      <td>December 2, 2017</td>\n",
              "      <td>Real</td>\n",
              "      <td>NaN</td>\n",
              "    </tr>\n",
              "  </tbody>\n",
              "</table>\n",
              "<p>40000 rows × 7 columns</p>\n",
              "</div>"
            ],
            "text/plain": [
              "       index  ... Unnamed: 6\n",
              "0          0  ...        NaN\n",
              "1          1  ...        NaN\n",
              "2          2  ...        NaN\n",
              "3          3  ...        NaN\n",
              "4          4  ...        NaN\n",
              "...      ...  ...        ...\n",
              "39995  39995  ...        NaN\n",
              "39996  39996  ...        NaN\n",
              "39997  39997  ...        NaN\n",
              "39998  39998  ...        NaN\n",
              "39999  39999  ...        NaN\n",
              "\n",
              "[40000 rows x 7 columns]"
            ]
          },
          "metadata": {
            "tags": []
          },
          "execution_count": 81
        }
      ]
    },
    {
      "cell_type": "code",
      "metadata": {
        "id": "DcFzaPM9OrjD",
        "outputId": "faf7bde7-8226-4077-a6de-067ccaa23da0",
        "colab": {
          "base_uri": "https://localhost:8080/",
          "height": 36
        }
      },
      "source": [
        "train.columns"
      ],
      "execution_count": null,
      "outputs": [
        {
          "output_type": "execute_result",
          "data": {
            "text/plain": [
              "Index(['index', 'title', 'text', 'subject', 'date', 'class', 'Unnamed: 6'], dtype='object')"
            ]
          },
          "metadata": {
            "tags": []
          },
          "execution_count": 82
        }
      ]
    },
    {
      "cell_type": "code",
      "metadata": {
        "id": "0G9UZbjBOvHZ"
      },
      "source": [
        "y_train = train[\"class\"]\n",
        "train.drop(columns=[\"class\",\"Unnamed: 6\"],inplace=True)"
      ],
      "execution_count": null,
      "outputs": []
    },
    {
      "cell_type": "code",
      "metadata": {
        "id": "8CV5Oq0XOyIc",
        "outputId": "e7cd3473-0fe9-4869-b42d-21130912cd8b",
        "colab": {
          "base_uri": "https://localhost:8080/",
          "height": 54
        }
      },
      "source": [
        "y = y_train\n",
        "np.unique(y,return_counts=True)"
      ],
      "execution_count": null,
      "outputs": [
        {
          "output_type": "execute_result",
          "data": {
            "text/plain": [
              "(array(['Fake', 'February 5, 2017', 'Real'], dtype=object),\n",
              " array([20886,     1, 19113]))"
            ]
          },
          "metadata": {
            "tags": []
          },
          "execution_count": 84
        }
      ]
    },
    {
      "cell_type": "code",
      "metadata": {
        "id": "bTNLy2TDO0Nx",
        "outputId": "9e971177-afae-4771-83db-152fa37011c8",
        "colab": {
          "base_uri": "https://localhost:8080/",
          "height": 80
        }
      },
      "source": [
        "train[y==\"February 5, 2017\"]"
      ],
      "execution_count": null,
      "outputs": [
        {
          "output_type": "execute_result",
          "data": {
            "text/html": [
              "<div>\n",
              "<style scoped>\n",
              "    .dataframe tbody tr th:only-of-type {\n",
              "        vertical-align: middle;\n",
              "    }\n",
              "\n",
              "    .dataframe tbody tr th {\n",
              "        vertical-align: top;\n",
              "    }\n",
              "\n",
              "    .dataframe thead th {\n",
              "        text-align: right;\n",
              "    }\n",
              "</style>\n",
              "<table border=\"1\" class=\"dataframe\">\n",
              "  <thead>\n",
              "    <tr style=\"text-align: right;\">\n",
              "      <th></th>\n",
              "      <th>index</th>\n",
              "      <th>title</th>\n",
              "      <th>text</th>\n",
              "      <th>subject</th>\n",
              "      <th>date</th>\n",
              "    </tr>\n",
              "  </thead>\n",
              "  <tbody>\n",
              "    <tr>\n",
              "      <th>504</th>\n",
              "      <td>504</td>\n",
              "      <td>Even Mitch McConnell Is Beginning To Turn On ...</td>\n",
              "      <td>Is Impeachment Next? (VIDEO)</td>\n",
              "      <td>Donald Trump s Muslim ban is proving to be a l...</td>\n",
              "      <td>News</td>\n",
              "    </tr>\n",
              "  </tbody>\n",
              "</table>\n",
              "</div>"
            ],
            "text/plain": [
              "     index  ...  date\n",
              "504    504  ...  News\n",
              "\n",
              "[1 rows x 5 columns]"
            ]
          },
          "metadata": {
            "tags": []
          },
          "execution_count": 13
        }
      ]
    },
    {
      "cell_type": "code",
      "metadata": {
        "id": "26nDP-c5O4Nk",
        "outputId": "2e5a9c08-b46e-464f-a8c9-d1c0742e7120",
        "colab": {
          "base_uri": "https://localhost:8080/",
          "height": 36
        }
      },
      "source": [
        "y_train[504]"
      ],
      "execution_count": null,
      "outputs": [
        {
          "output_type": "execute_result",
          "data": {
            "application/vnd.google.colaboratory.intrinsic+json": {
              "type": "string"
            },
            "text/plain": [
              "'February 5, 2017'"
            ]
          },
          "metadata": {
            "tags": []
          },
          "execution_count": 88
        }
      ]
    },
    {
      "cell_type": "code",
      "metadata": {
        "id": "xRGjGfsiO6o6",
        "outputId": "20fc0d71-2aea-4aa5-c660-a2a9ecb670f5",
        "colab": {
          "base_uri": "https://localhost:8080/",
          "height": 36
        }
      },
      "source": [
        "train.shape"
      ],
      "execution_count": null,
      "outputs": [
        {
          "output_type": "execute_result",
          "data": {
            "text/plain": [
              "(40000, 5)"
            ]
          },
          "metadata": {
            "tags": []
          },
          "execution_count": 15
        }
      ]
    },
    {
      "cell_type": "code",
      "metadata": {
        "id": "yyejerr1O8fr"
      },
      "source": [
        "y_train[504] = \"Real\""
      ],
      "execution_count": null,
      "outputs": []
    },
    {
      "cell_type": "code",
      "metadata": {
        "id": "j-1JiMjNO_gV"
      },
      "source": [
        "train.drop(columns=[\"index\"],inplace=True)"
      ],
      "execution_count": null,
      "outputs": []
    },
    {
      "cell_type": "code",
      "metadata": {
        "id": "wvFlCrkLPCpc"
      },
      "source": [
        "test.drop(columns=[\"index\"],inplace=True)"
      ],
      "execution_count": null,
      "outputs": []
    },
    {
      "cell_type": "code",
      "metadata": {
        "id": "czgtgWuOPKFh"
      },
      "source": [
        "for i in range(train.shape[0]):\n",
        "    train[\"date\"].iloc[i]=train[\"date\"].iloc[i].split(\",\")[-1]"
      ],
      "execution_count": null,
      "outputs": []
    },
    {
      "cell_type": "code",
      "metadata": {
        "id": "CPDYb7ecPQIH"
      },
      "source": [
        "for i in range(test.shape[0]):\n",
        "    test[\"date\"].iloc[i]=test[\"date\"].iloc[i].split(\",\")[-1]"
      ],
      "execution_count": null,
      "outputs": []
    },
    {
      "cell_type": "code",
      "metadata": {
        "id": "DSvBsT8SPSD6"
      },
      "source": [
        "train[\"Year\"]=train[\"date\"]\n",
        "train.drop(columns=[\"date\"],inplace=True)"
      ],
      "execution_count": null,
      "outputs": []
    },
    {
      "cell_type": "code",
      "metadata": {
        "id": "72WksSPqPT7Q"
      },
      "source": [
        "test[\"Year\"]=test[\"date\"]\n",
        "test.drop(columns=[\"date\"],inplace=True)"
      ],
      "execution_count": null,
      "outputs": []
    },
    {
      "cell_type": "code",
      "metadata": {
        "id": "nRYw4AelPVo-",
        "outputId": "c34a52da-10cd-4988-a3f1-1b5bc04cfee1",
        "colab": {
          "base_uri": "https://localhost:8080/",
          "height": 423
        }
      },
      "source": [
        "train"
      ],
      "execution_count": null,
      "outputs": [
        {
          "output_type": "execute_result",
          "data": {
            "text/html": [
              "<div>\n",
              "<style scoped>\n",
              "    .dataframe tbody tr th:only-of-type {\n",
              "        vertical-align: middle;\n",
              "    }\n",
              "\n",
              "    .dataframe tbody tr th {\n",
              "        vertical-align: top;\n",
              "    }\n",
              "\n",
              "    .dataframe thead th {\n",
              "        text-align: right;\n",
              "    }\n",
              "</style>\n",
              "<table border=\"1\" class=\"dataframe\">\n",
              "  <thead>\n",
              "    <tr style=\"text-align: right;\">\n",
              "      <th></th>\n",
              "      <th>title</th>\n",
              "      <th>text</th>\n",
              "      <th>subject</th>\n",
              "      <th>class</th>\n",
              "      <th>Year</th>\n",
              "    </tr>\n",
              "  </thead>\n",
              "  <tbody>\n",
              "    <tr>\n",
              "      <th>0</th>\n",
              "      <td>PRESIDENT TRUMP Explains New “America First” R...</td>\n",
              "      <td>That s what we re talking about! Another campa...</td>\n",
              "      <td>politics</td>\n",
              "      <td>Fake</td>\n",
              "      <td>2017</td>\n",
              "    </tr>\n",
              "    <tr>\n",
              "      <th>1</th>\n",
              "      <td>TERMINALLY ILL FORMER MISS WI: “Until my last ...</td>\n",
              "      <td>How is it that Sean Hannity is the only media ...</td>\n",
              "      <td>politics</td>\n",
              "      <td>Fake</td>\n",
              "      <td>2016</td>\n",
              "    </tr>\n",
              "    <tr>\n",
              "      <th>2</th>\n",
              "      <td>Cruz Humiliated By Moderator After Lie About ...</td>\n",
              "      <td>Almost immediately after learning that longtim...</td>\n",
              "      <td>News</td>\n",
              "      <td>Fake</td>\n",
              "      <td>2016</td>\n",
              "    </tr>\n",
              "    <tr>\n",
              "      <th>3</th>\n",
              "      <td>Russia revels in Trump victory, looks to sanct...</td>\n",
              "      <td>MOSCOW (Reuters) - For all their mutual praise...</td>\n",
              "      <td>politicsNews</td>\n",
              "      <td>Real</td>\n",
              "      <td>2016</td>\n",
              "    </tr>\n",
              "    <tr>\n",
              "      <th>4</th>\n",
              "      <td>Trump's bid to open U.S. monuments to developm...</td>\n",
              "      <td>WASHINGTON (Reuters) - The Trump administratio...</td>\n",
              "      <td>politicsNews</td>\n",
              "      <td>Real</td>\n",
              "      <td>2017</td>\n",
              "    </tr>\n",
              "    <tr>\n",
              "      <th>...</th>\n",
              "      <td>...</td>\n",
              "      <td>...</td>\n",
              "      <td>...</td>\n",
              "      <td>...</td>\n",
              "      <td>...</td>\n",
              "    </tr>\n",
              "    <tr>\n",
              "      <th>39995</th>\n",
              "      <td>U.S. officials step up rhetoric on Russia link...</td>\n",
              "      <td>(Reuters) - Republican vice presidential candi...</td>\n",
              "      <td>politicsNews</td>\n",
              "      <td>Real</td>\n",
              "      <td>2016</td>\n",
              "    </tr>\n",
              "    <tr>\n",
              "      <th>39996</th>\n",
              "      <td>McDonald’s Manager To Hispanic Customer: ‘Can...</td>\n",
              "      <td>An employee working at a North Carolina McDona...</td>\n",
              "      <td>News</td>\n",
              "      <td>Fake</td>\n",
              "      <td>2017</td>\n",
              "    </tr>\n",
              "    <tr>\n",
              "      <th>39997</th>\n",
              "      <td>SMUG LIBERAL LAW PROFESSOR SHUT DOWN BY TUCKER...</td>\n",
              "      <td>Tucker to sanctuary city supporter: how did a ...</td>\n",
              "      <td>politics</td>\n",
              "      <td>Fake</td>\n",
              "      <td>2017</td>\n",
              "    </tr>\n",
              "    <tr>\n",
              "      <th>39998</th>\n",
              "      <td>Robert Parry: Sorting Out the Russia Mess</td>\n",
              "      <td>Consortium News Exclusive: The U.S. mainstream...</td>\n",
              "      <td>US_News</td>\n",
              "      <td>Fake</td>\n",
              "      <td>2017</td>\n",
              "    </tr>\n",
              "    <tr>\n",
              "      <th>39999</th>\n",
              "      <td>Israeli missiles hit military post near Damasc...</td>\n",
              "      <td>BEIRUT (Reuters) - Israeli missiles struck a m...</td>\n",
              "      <td>worldnews</td>\n",
              "      <td>Real</td>\n",
              "      <td>2017</td>\n",
              "    </tr>\n",
              "  </tbody>\n",
              "</table>\n",
              "<p>40000 rows × 5 columns</p>\n",
              "</div>"
            ],
            "text/plain": [
              "                                                   title  ...    Year\n",
              "0      PRESIDENT TRUMP Explains New “America First” R...  ...    2017\n",
              "1      TERMINALLY ILL FORMER MISS WI: “Until my last ...  ...    2016\n",
              "2       Cruz Humiliated By Moderator After Lie About ...  ...    2016\n",
              "3      Russia revels in Trump victory, looks to sanct...  ...   2016 \n",
              "4      Trump's bid to open U.S. monuments to developm...  ...   2017 \n",
              "...                                                  ...  ...     ...\n",
              "39995  U.S. officials step up rhetoric on Russia link...  ...   2016 \n",
              "39996   McDonald’s Manager To Hispanic Customer: ‘Can...  ...    2017\n",
              "39997  SMUG LIBERAL LAW PROFESSOR SHUT DOWN BY TUCKER...  ...    2017\n",
              "39998          Robert Parry: Sorting Out the Russia Mess  ...    2017\n",
              "39999  Israeli missiles hit military post near Damasc...  ...   2017 \n",
              "\n",
              "[40000 rows x 5 columns]"
            ]
          },
          "metadata": {
            "tags": []
          },
          "execution_count": 23
        }
      ]
    },
    {
      "cell_type": "code",
      "metadata": {
        "id": "gjFnkitUPXiK",
        "outputId": "454ae2de-983c-4b3b-a58e-a5dff792f0b1",
        "colab": {
          "base_uri": "https://localhost:8080/",
          "height": 423
        }
      },
      "source": [
        "test"
      ],
      "execution_count": null,
      "outputs": [
        {
          "output_type": "execute_result",
          "data": {
            "text/html": [
              "<div>\n",
              "<style scoped>\n",
              "    .dataframe tbody tr th:only-of-type {\n",
              "        vertical-align: middle;\n",
              "    }\n",
              "\n",
              "    .dataframe tbody tr th {\n",
              "        vertical-align: top;\n",
              "    }\n",
              "\n",
              "    .dataframe thead th {\n",
              "        text-align: right;\n",
              "    }\n",
              "</style>\n",
              "<table border=\"1\" class=\"dataframe\">\n",
              "  <thead>\n",
              "    <tr style=\"text-align: right;\">\n",
              "      <th></th>\n",
              "      <th>title</th>\n",
              "      <th>text</th>\n",
              "      <th>subject</th>\n",
              "      <th>Year</th>\n",
              "    </tr>\n",
              "  </thead>\n",
              "  <tbody>\n",
              "    <tr>\n",
              "      <th>0</th>\n",
              "      <td>STUNNING TESTIMONY On The Devastation Illegal ...</td>\n",
              "      <td>Fantastic testimony on the disastrous results...</td>\n",
              "      <td>Government News</td>\n",
              "      <td>2016</td>\n",
              "    </tr>\n",
              "    <tr>\n",
              "      <th>1</th>\n",
              "      <td>Pena Nieto told Trump Mexico won't pay for wal...</td>\n",
              "      <td>MEXICO CITY (Reuters) - Mexican President Enri...</td>\n",
              "      <td>politicsNews</td>\n",
              "      <td>2016</td>\n",
              "    </tr>\n",
              "    <tr>\n",
              "      <th>2</th>\n",
              "      <td>Actor George Clooney: I Support Hillary, And ...</td>\n",
              "      <td>Hillary Clinton has picked up a huge endorseme...</td>\n",
              "      <td>News</td>\n",
              "      <td>2016</td>\n",
              "    </tr>\n",
              "    <tr>\n",
              "      <th>3</th>\n",
              "      <td>AWESOME LETTER TO OBAMA: Who is unfit to be pr...</td>\n",
              "      <td>Did anyone else think it was the ultimate iron...</td>\n",
              "      <td>left-news</td>\n",
              "      <td>2016</td>\n",
              "    </tr>\n",
              "    <tr>\n",
              "      <th>4</th>\n",
              "      <td>This Ridiculously Creepy Vine May Prove Ted C...</td>\n",
              "      <td>There have been a lot of strange this that hav...</td>\n",
              "      <td>News</td>\n",
              "      <td>2016</td>\n",
              "    </tr>\n",
              "    <tr>\n",
              "      <th>...</th>\n",
              "      <td>...</td>\n",
              "      <td>...</td>\n",
              "      <td>...</td>\n",
              "      <td>...</td>\n",
              "    </tr>\n",
              "    <tr>\n",
              "      <th>3995</th>\n",
              "      <td>WHERE’S THE OVERSIGHT? OBAMA FUNNELED BILLIONS...</td>\n",
              "      <td>Advocates for big government and progressive ...</td>\n",
              "      <td>Government News</td>\n",
              "      <td>2017</td>\n",
              "    </tr>\n",
              "    <tr>\n",
              "      <th>3996</th>\n",
              "      <td>Trump says he is 'very, very close' to making ...</td>\n",
              "      <td>WASHINGTON (Reuters) - U.S. President Donald T...</td>\n",
              "      <td>politicsNews</td>\n",
              "      <td>2017</td>\n",
              "    </tr>\n",
              "    <tr>\n",
              "      <th>3997</th>\n",
              "      <td>NSA Chief On Trump’s Russia/US Cybersecurity ...</td>\n",
              "      <td>It doesn t take a rocket scientist to know tha...</td>\n",
              "      <td>News</td>\n",
              "      <td>2017</td>\n",
              "    </tr>\n",
              "    <tr>\n",
              "      <th>3998</th>\n",
              "      <td>Chris Christie Says Only Stupid Judges Will W...</td>\n",
              "      <td>On New Jersey 101.5, Chris Christie made the a...</td>\n",
              "      <td>News</td>\n",
              "      <td>2016</td>\n",
              "    </tr>\n",
              "    <tr>\n",
              "      <th>3999</th>\n",
              "      <td>The Internet EVISCERATES Whiny Nikki Haley Af...</td>\n",
              "      <td>The Donald Trump Administration has to be the ...</td>\n",
              "      <td>News</td>\n",
              "      <td>2017</td>\n",
              "    </tr>\n",
              "  </tbody>\n",
              "</table>\n",
              "<p>4000 rows × 4 columns</p>\n",
              "</div>"
            ],
            "text/plain": [
              "                                                  title  ...    Year\n",
              "0     STUNNING TESTIMONY On The Devastation Illegal ...  ...    2016\n",
              "1     Pena Nieto told Trump Mexico won't pay for wal...  ...   2016 \n",
              "2      Actor George Clooney: I Support Hillary, And ...  ...    2016\n",
              "3     AWESOME LETTER TO OBAMA: Who is unfit to be pr...  ...    2016\n",
              "4      This Ridiculously Creepy Vine May Prove Ted C...  ...    2016\n",
              "...                                                 ...  ...     ...\n",
              "3995  WHERE’S THE OVERSIGHT? OBAMA FUNNELED BILLIONS...  ...    2017\n",
              "3996  Trump says he is 'very, very close' to making ...  ...   2017 \n",
              "3997   NSA Chief On Trump’s Russia/US Cybersecurity ...  ...    2017\n",
              "3998   Chris Christie Says Only Stupid Judges Will W...  ...    2016\n",
              "3999   The Internet EVISCERATES Whiny Nikki Haley Af...  ...    2017\n",
              "\n",
              "[4000 rows x 4 columns]"
            ]
          },
          "metadata": {
            "tags": []
          },
          "execution_count": 24
        }
      ]
    },
    {
      "cell_type": "code",
      "metadata": {
        "id": "10_s3bYCPZvC",
        "outputId": "31c570a8-e05d-4892-bb94-4ef8953f7f16",
        "colab": {
          "base_uri": "https://localhost:8080/",
          "height": 129
        }
      },
      "source": [
        "train.isnull().sum()"
      ],
      "execution_count": null,
      "outputs": [
        {
          "output_type": "execute_result",
          "data": {
            "text/plain": [
              "title      0\n",
              "text       0\n",
              "subject    0\n",
              "class      0\n",
              "Year       0\n",
              "dtype: int64"
            ]
          },
          "metadata": {
            "tags": []
          },
          "execution_count": 25
        }
      ]
    },
    {
      "cell_type": "code",
      "metadata": {
        "id": "KVH-im5CPeap",
        "outputId": "c2f71c20-4953-4708-9fe5-916b656ce755",
        "colab": {
          "base_uri": "https://localhost:8080/",
          "height": 111
        }
      },
      "source": [
        "test.isnull().sum()"
      ],
      "execution_count": null,
      "outputs": [
        {
          "output_type": "execute_result",
          "data": {
            "text/plain": [
              "title      0\n",
              "text       0\n",
              "subject    0\n",
              "Year       0\n",
              "dtype: int64"
            ]
          },
          "metadata": {
            "tags": []
          },
          "execution_count": 26
        }
      ]
    },
    {
      "cell_type": "code",
      "metadata": {
        "id": "SM9Z-EQzPgEE",
        "outputId": "4fd45491-5e5d-4cda-ccf2-1456acdfd4f4",
        "colab": {
          "base_uri": "https://localhost:8080/",
          "height": 73
        }
      },
      "source": [
        "import nltk\n",
        "from nltk.tokenize import word_tokenize\n",
        "from nltk.corpus import stopwords\n",
        "from nltk.tokenize import RegexpTokenizer\n",
        "import nltk\n",
        "nltk.download('punkt')  "
      ],
      "execution_count": null,
      "outputs": [
        {
          "output_type": "stream",
          "text": [
            "[nltk_data] Downloading package punkt to /root/nltk_data...\n",
            "[nltk_data]   Unzipping tokenizers/punkt.zip.\n"
          ],
          "name": "stdout"
        },
        {
          "output_type": "execute_result",
          "data": {
            "text/plain": [
              "True"
            ]
          },
          "metadata": {
            "tags": []
          },
          "execution_count": 27
        }
      ]
    },
    {
      "cell_type": "code",
      "metadata": {
        "id": "fzOnnSVmPjGA"
      },
      "source": [
        "x_train = train.values\n",
        "x_test = test.values\n",
        "y_train = y_train.values"
      ],
      "execution_count": null,
      "outputs": []
    },
    {
      "cell_type": "code",
      "metadata": {
        "id": "DeQOTrRVPl41",
        "outputId": "d01cd97f-4df7-4407-ded1-68598de44c5a",
        "colab": {
          "base_uri": "https://localhost:8080/",
          "height": 36
        }
      },
      "source": [
        "x_train.shape"
      ],
      "execution_count": null,
      "outputs": [
        {
          "output_type": "execute_result",
          "data": {
            "text/plain": [
              "(40000, 5)"
            ]
          },
          "metadata": {
            "tags": []
          },
          "execution_count": 29
        }
      ]
    },
    {
      "cell_type": "code",
      "metadata": {
        "id": "bMFfEPnmTA-_"
      },
      "source": [
        "my_regex_tokenizer = RegexpTokenizer(pattern=\"[a-zA-Z]+\")"
      ],
      "execution_count": null,
      "outputs": []
    },
    {
      "cell_type": "markdown",
      "metadata": {
        "id": "FiRF9bSdPriv"
      },
      "source": [
        "# Stop Words Removal For Train Data"
      ]
    },
    {
      "cell_type": "code",
      "metadata": {
        "id": "gyMt2zywPnuy",
        "outputId": "e8336c3f-9880-4030-fa1b-c2aa2d1fbc65",
        "colab": {
          "base_uri": "https://localhost:8080/",
          "height": 73
        }
      },
      "source": [
        "nltk.download(\"stopwords\")"
      ],
      "execution_count": null,
      "outputs": [
        {
          "output_type": "stream",
          "text": [
            "[nltk_data] Downloading package stopwords to /root/nltk_data...\n",
            "[nltk_data]   Unzipping corpora/stopwords.zip.\n"
          ],
          "name": "stdout"
        },
        {
          "output_type": "execute_result",
          "data": {
            "text/plain": [
              "True"
            ]
          },
          "metadata": {
            "tags": []
          },
          "execution_count": 31
        }
      ]
    },
    {
      "cell_type": "code",
      "metadata": {
        "id": "zs61NM-hPzFb"
      },
      "source": [
        "sw = stopwords.words(\"english\")"
      ],
      "execution_count": null,
      "outputs": []
    },
    {
      "cell_type": "code",
      "metadata": {
        "id": "Om59nUKNQCtm",
        "outputId": "18466b2e-b2aa-4192-c439-186fbf23190c",
        "colab": {
          "base_uri": "https://localhost:8080/",
          "height": 241
        }
      },
      "source": [
        "train[\"title\"]"
      ],
      "execution_count": null,
      "outputs": [
        {
          "output_type": "execute_result",
          "data": {
            "text/plain": [
              "0        PRESIDENT TRUMP Explains New “America First” R...\n",
              "1        TERMINALLY ILL FORMER MISS WI: “Until my last ...\n",
              "2         Cruz Humiliated By Moderator After Lie About ...\n",
              "3        Russia revels in Trump victory, looks to sanct...\n",
              "4        Trump's bid to open U.S. monuments to developm...\n",
              "                               ...                        \n",
              "39995    U.S. officials step up rhetoric on Russia link...\n",
              "39996     McDonald’s Manager To Hispanic Customer: ‘Can...\n",
              "39997    SMUG LIBERAL LAW PROFESSOR SHUT DOWN BY TUCKER...\n",
              "39998            Robert Parry: Sorting Out the Russia Mess\n",
              "39999    Israeli missiles hit military post near Damasc...\n",
              "Name: title, Length: 40000, dtype: object"
            ]
          },
          "metadata": {
            "tags": []
          },
          "execution_count": 33
        }
      ]
    },
    {
      "cell_type": "markdown",
      "metadata": {
        "id": "m1slpJtNRLkG"
      },
      "source": [
        "# Stopwords From News"
      ]
    },
    {
      "cell_type": "code",
      "metadata": {
        "id": "VUehlr3kP1X9"
      },
      "source": [
        "news = []\n",
        "for i in range(0,x_train.shape[0]):\n",
        "    value = \" \".join([w for w in word_tokenize(x_train[i][1].lower()) if w not in sw])\n",
        "    news.append(value)"
      ],
      "execution_count": null,
      "outputs": []
    },
    {
      "cell_type": "code",
      "metadata": {
        "id": "bseVxq7DSThQ",
        "outputId": "f3ba5f61-8e49-484d-d99e-51bdbcf928ec",
        "colab": {
          "base_uri": "https://localhost:8080/",
          "height": 167
        }
      },
      "source": [
        "news[0]"
      ],
      "execution_count": null,
      "outputs": [
        {
          "output_type": "execute_result",
          "data": {
            "application/vnd.google.colaboratory.intrinsic+json": {
              "type": "string"
            },
            "text/plain": [
              "'talking ! another campaign promise kept . wonder democrats media allies fear president trump . last time politician actually followed promise made american voters helped get elected ? president trump joined two republican senators wednesday champion legislation overhauling legal immigration america , calling merit-based system would significantly cut admissions next decade.speaking white house , president called significant reform immigration system half century . candidate , campaigned creating merit-based immigration system protects u.s. workers taxpayers , today , trump said.he joined georgia sen. david perdue arkansas sen. tom cotton , republicans first introduced reforming american immigration strong economy , raise act , february . said legislation aims reduce number green cards issued half 1 million 500,000 year.trump , perdue cotton argued tuesday low-skilled unskilled immigration united states depressed wages.according fact sheet released reporters , new system would favor immigrants educated , speak english high-paying job offers . would also reduce low-skilled unskilled labor immigration.trump said new immigrants must able financially support families . raise act prevents new migrants new immigrants collecting welfare protects u.s. workers displaced , president said . big thing , going come immediately go collect welfare . bill would prioritize immediate family members united states residents , including spouses young children . would end prioritization extended family members adult children residents.the legislation also eliminates diversity visa lottery system limits permanent resident status refugees 50,000 year.trump lamented country record numbers green cards low-wage immigrants . white house said 1 million immigrants accepted united states legal permanent residency every year low unskilled workers.among hardest hit , president said , minority workers , said competing jobs brand new arrivals . fair people , citizens , workers , said.the administration also said 50 percent immigrant households receive welfare benefits , opposed 30 percent native households country . entire story : fox news'"
            ]
          },
          "metadata": {
            "tags": []
          },
          "execution_count": 35
        }
      ]
    },
    {
      "cell_type": "code",
      "metadata": {
        "id": "NpX8shDCP_2E"
      },
      "source": [
        "news_token = []\n",
        "for i in range(0,x_train.shape[0]):\n",
        "    value = \" \".join(my_regex_tokenizer.tokenize(news[i].lower()))\n",
        "    value = value.split()\n",
        "    value = [s for s in value if len(s)>1]\n",
        "    value = \" \".join(value)\n",
        "    news_token.append(value)"
      ],
      "execution_count": null,
      "outputs": []
    },
    {
      "cell_type": "markdown",
      "metadata": {
        "id": "nal6JzDiTQUX"
      },
      "source": [
        "# Title Tokenization and Stopwords"
      ]
    },
    {
      "cell_type": "code",
      "metadata": {
        "id": "q18u6cmfRnpO"
      },
      "source": [
        "title = []\n",
        "for i in range(0,x_train.shape[0]):\n",
        "    value = \" \".join([w for w in word_tokenize(x_train[i][0].lower()) if w not in sw])\n",
        "    title.append(value)"
      ],
      "execution_count": null,
      "outputs": []
    },
    {
      "cell_type": "code",
      "metadata": {
        "id": "V9eFpsgwTHRB"
      },
      "source": [
        "title_token = []\n",
        "for i in range(0,x_train.shape[0]):\n",
        "    value = \" \".join(my_regex_tokenizer.tokenize(title[i].lower()))\n",
        "    value = value.split()\n",
        "    value = [s for s in value if len(s)>1]\n",
        "    value = \" \".join(value)\n",
        "    title_token.append(value)"
      ],
      "execution_count": null,
      "outputs": []
    },
    {
      "cell_type": "markdown",
      "metadata": {
        "id": "9QbmHz-XUGNw"
      },
      "source": [
        "# Subject Token"
      ]
    },
    {
      "cell_type": "code",
      "metadata": {
        "id": "NRwM859wTxh5"
      },
      "source": [
        "subject_token = []\n",
        "for j in range(0,x_train.shape[0]):\n",
        "    value = \" \".join(my_regex_tokenizer.tokenize(x_train[j][2].lower()))\n",
        "    subject_token.append(value)"
      ],
      "execution_count": null,
      "outputs": []
    },
    {
      "cell_type": "markdown",
      "metadata": {
        "id": "du0ObmHIUj1m"
      },
      "source": [
        "# Now Dealing With Test Data"
      ]
    },
    {
      "cell_type": "markdown",
      "metadata": {
        "id": "3pKcGWVDU9SQ"
      },
      "source": [
        "# News Stop words and tokenization"
      ]
    },
    {
      "cell_type": "code",
      "metadata": {
        "id": "y6CD_3MyT1NA"
      },
      "source": [
        "news_test = []\n",
        "for i in range(0,x_test.shape[0]):\n",
        "    value = \" \".join([w for w in word_tokenize(x_test[i][1].lower()) if w not in sw])\n",
        "    news_test.append(value)"
      ],
      "execution_count": null,
      "outputs": []
    },
    {
      "cell_type": "code",
      "metadata": {
        "id": "pyQPtOttVGBV"
      },
      "source": [
        "news_test_token = []\n",
        "for i in range(0,x_test.shape[0]):\n",
        "    value = \" \".join(my_regex_tokenizer.tokenize(news_test[i].lower()))\n",
        "    value = value.split()\n",
        "    value = [s for s in value if len(s)>1]\n",
        "    value = \" \".join(value)\n",
        "    news_test_token.append(value)"
      ],
      "execution_count": null,
      "outputs": []
    },
    {
      "cell_type": "markdown",
      "metadata": {
        "id": "Y06E4ideVomV"
      },
      "source": [
        "# Title Stopwords And Tokenization"
      ]
    },
    {
      "cell_type": "code",
      "metadata": {
        "id": "D-BcGsaEVnjW"
      },
      "source": [
        "title_test = []\n",
        "for i in range(0,x_test.shape[0]):\n",
        "    value = \" \".join([w for w in word_tokenize(x_test[i][0].lower()) if w not in sw])\n",
        "    title_test.append(value)"
      ],
      "execution_count": null,
      "outputs": []
    },
    {
      "cell_type": "code",
      "metadata": {
        "id": "x__i_gRAV4sz"
      },
      "source": [
        "title_test_token = []\n",
        "for i in range(0,x_test.shape[0]):\n",
        "    value = \" \".join(my_regex_tokenizer.tokenize(title_test[i].lower()))\n",
        "    value = value.split()\n",
        "    value = [s for s in value if len(s)>1]\n",
        "    value = \" \".join(value)\n",
        "    title_test_token.append(value)"
      ],
      "execution_count": null,
      "outputs": []
    },
    {
      "cell_type": "markdown",
      "metadata": {
        "id": "TYboNQeoWL8a"
      },
      "source": [
        "# Subject Tokenization"
      ]
    },
    {
      "cell_type": "code",
      "metadata": {
        "id": "TJqrQE1BWFXz"
      },
      "source": [
        "subject_test_token = []\n",
        "for j in range(0,x_test.shape[0]):\n",
        "    value = \" \".join(my_regex_tokenizer.tokenize(x_test[j][2].lower()))\n",
        "    subject_test_token.append(value)"
      ],
      "execution_count": null,
      "outputs": []
    },
    {
      "cell_type": "code",
      "metadata": {
        "id": "Q8R3C3_BWHsF"
      },
      "source": [
        "import gensim\n",
        "from sklearn.metrics.pairwise import cosine_similarity\n",
        "import numpy as np\n",
        "import nltk\n",
        "import matplotlib.pyplot as plt"
      ],
      "execution_count": null,
      "outputs": []
    },
    {
      "cell_type": "markdown",
      "metadata": {
        "id": "E07KGPtJWnwk"
      },
      "source": [
        "# Testing Size For Training Data"
      ]
    },
    {
      "cell_type": "markdown",
      "metadata": {
        "id": "c4vfe2JbZ26y"
      },
      "source": [
        "### News"
      ]
    },
    {
      "cell_type": "code",
      "metadata": {
        "id": "phKqkVjzWesl"
      },
      "source": [
        "len_sen = []\n",
        "for i in range(x_train.shape[0]):\n",
        "#     print(x_train[i][1].split())\n",
        "    len_sen.append(len(news_token[i].split()))"
      ],
      "execution_count": null,
      "outputs": []
    },
    {
      "cell_type": "code",
      "metadata": {
        "id": "pJ4ykANYZhnD",
        "outputId": "9b317b50-69de-4831-924f-d21b0e8af407",
        "colab": {
          "base_uri": "https://localhost:8080/",
          "height": 36
        }
      },
      "source": [
        "np.average(len_sen)"
      ],
      "execution_count": null,
      "outputs": [
        {
          "output_type": "execute_result",
          "data": {
            "text/plain": [
              "234.08545"
            ]
          },
          "metadata": {
            "tags": []
          },
          "execution_count": 47
        }
      ]
    },
    {
      "cell_type": "code",
      "metadata": {
        "id": "OcWDhs9-Zlna",
        "outputId": "6c3dc20c-01ff-4bb9-aae0-6d37bc840ce5",
        "colab": {
          "base_uri": "https://localhost:8080/",
          "height": 36
        }
      },
      "source": [
        "max(len_sen)"
      ],
      "execution_count": null,
      "outputs": [
        {
          "output_type": "execute_result",
          "data": {
            "text/plain": [
              "5050"
            ]
          },
          "metadata": {
            "tags": []
          },
          "execution_count": 48
        }
      ]
    },
    {
      "cell_type": "code",
      "metadata": {
        "id": "STH57gb9ZoI6",
        "outputId": "56f6ed02-7d61-4ed6-c65f-2776a97880f7",
        "colab": {
          "base_uri": "https://localhost:8080/",
          "height": 359
        }
      },
      "source": [
        "plt.hist(len_sen)"
      ],
      "execution_count": null,
      "outputs": [
        {
          "output_type": "execute_result",
          "data": {
            "text/plain": [
              "(array([3.7647e+04, 2.0930e+03, 1.4100e+02, 5.2000e+01, 3.8000e+01,\n",
              "        4.0000e+00, 1.3000e+01, 4.0000e+00, 2.0000e+00, 6.0000e+00]),\n",
              " array([   0.,  505., 1010., 1515., 2020., 2525., 3030., 3535., 4040.,\n",
              "        4545., 5050.]),\n",
              " <a list of 10 Patch objects>)"
            ]
          },
          "metadata": {
            "tags": []
          },
          "execution_count": 49
        },
        {
          "output_type": "display_data",
          "data": {
            "image/png": "[encoded data removed]",
            "text/plain": [
              "<Figure size 432x288 with 1 Axes>"
            ]
          },
          "metadata": {
            "tags": [],
            "needs_background": "light"
          }
        }
      ]
    },
    {
      "cell_type": "markdown",
      "metadata": {
        "id": "YkktImGpZ54Z"
      },
      "source": [
        "### Title"
      ]
    },
    {
      "cell_type": "code",
      "metadata": {
        "id": "8LpfX2BgZrJs"
      },
      "source": [
        "len_sen1 = []\n",
        "for i in range(x_train.shape[0]):\n",
        "#     print(x_train[i][0].split())\n",
        "    len_sen1.append(len(title_token[i].split()))"
      ],
      "execution_count": null,
      "outputs": []
    },
    {
      "cell_type": "code",
      "metadata": {
        "id": "4Zng6j8CaNj9",
        "outputId": "1250b71c-3e3d-47da-987b-9cdee091b2d2",
        "colab": {
          "base_uri": "https://localhost:8080/",
          "height": 36
        }
      },
      "source": [
        "np.average(len_sen1)"
      ],
      "execution_count": null,
      "outputs": [
        {
          "output_type": "execute_result",
          "data": {
            "text/plain": [
              "9.3408"
            ]
          },
          "metadata": {
            "tags": []
          },
          "execution_count": 51
        }
      ]
    },
    {
      "cell_type": "code",
      "metadata": {
        "id": "jr69DLALaVRx",
        "outputId": "a93ee8ae-3529-4369-8f0b-4f4d60767011",
        "colab": {
          "base_uri": "https://localhost:8080/",
          "height": 36
        }
      },
      "source": [
        "max(len_sen1)"
      ],
      "execution_count": null,
      "outputs": [
        {
          "output_type": "execute_result",
          "data": {
            "text/plain": [
              "30"
            ]
          },
          "metadata": {
            "tags": []
          },
          "execution_count": 52
        }
      ]
    },
    {
      "cell_type": "code",
      "metadata": {
        "id": "w0i3Od94aP5d",
        "outputId": "67ad669c-a1ac-4137-89c6-0a15a925c8bd",
        "colab": {
          "base_uri": "https://localhost:8080/",
          "height": 340
        }
      },
      "source": [
        "plt.hist(len_sen1)"
      ],
      "execution_count": null,
      "outputs": [
        {
          "output_type": "execute_result",
          "data": {
            "text/plain": [
              "(array([6.9000e+01, 3.9650e+03, 2.1166e+04, 9.9850e+03, 2.9780e+03,\n",
              "        1.2750e+03, 4.0900e+02, 1.2100e+02, 3.0000e+01, 2.0000e+00]),\n",
              " array([ 1. ,  3.9,  6.8,  9.7, 12.6, 15.5, 18.4, 21.3, 24.2, 27.1, 30. ]),\n",
              " <a list of 10 Patch objects>)"
            ]
          },
          "metadata": {
            "tags": []
          },
          "execution_count": 53
        },
        {
          "output_type": "display_data",
          "data": {
            "image/png": "[encoded data removed]",
            "text/plain": [
              "<Figure size 432x288 with 1 Axes>"
            ]
          },
          "metadata": {
            "tags": [],
            "needs_background": "light"
          }
        }
      ]
    },
    {
      "cell_type": "markdown",
      "metadata": {
        "id": "pnsR2IZGartH"
      },
      "source": [
        "# Glove"
      ]
    },
    {
      "cell_type": "code",
      "metadata": {
        "id": "6b9zQ9BQaSHa"
      },
      "source": [
        "f = open(\"./8542_11957_compressed_glove.6B.50d.txt/glove.6B.50d.txt\",encoding='utf8')"
      ],
      "execution_count": null,
      "outputs": []
    },
    {
      "cell_type": "code",
      "metadata": {
        "id": "P8QqhYjMavJR"
      },
      "source": [
        "embedding = {}\n",
        "for line in f:\n",
        "    values = line.split()\n",
        "    word = values[0]\n",
        "    emb = np.array(values[1:],dtype=\"float\")\n",
        "    embedding[word] = emb"
      ],
      "execution_count": null,
      "outputs": []
    },
    {
      "cell_type": "markdown",
      "metadata": {
        "id": "8cHvxs7aa32m"
      },
      "source": [
        "# Embedding Matrix For News"
      ]
    },
    {
      "cell_type": "code",
      "metadata": {
        "id": "NAdCsZ08azlW"
      },
      "source": [
        "def get_embedding_index_news(x):\n",
        "    maxlen = 100\n",
        "    embedding_output = np.zeros((len(x),maxlen,50))\n",
        "    x1 = []\n",
        "    for i in range(len(x)):\n",
        "        x1.append(x[i].split())\n",
        "        if len(x1[i])>100:\n",
        "            x1[i] = x1[i][:100]\n",
        "        for j in range(len(x1[i])):\n",
        "            if embedding.get(x1[i][j]) is not None:\n",
        "                embedding_output[i][j] = embedding[x1[i][j].lower()]\n",
        "                \n",
        "    return embedding_output"
      ],
      "execution_count": null,
      "outputs": []
    },
    {
      "cell_type": "markdown",
      "metadata": {
        "id": "Tzya9k_wbKKQ"
      },
      "source": [
        "# Embedding Matrix For Title"
      ]
    },
    {
      "cell_type": "code",
      "metadata": {
        "id": "8zZRenhCbFRo"
      },
      "source": [
        "def get_embedding_index_title(x):\n",
        "    maxlen = 15\n",
        "    embedding_output = np.zeros((len(x),maxlen,50))\n",
        "    x1 = []\n",
        "    for i in range(len(x)):\n",
        "        x1.append(x[i].split())\n",
        "        if len(x1[i])>15:\n",
        "            x1[i] = x1[i][:15]\n",
        "        for j in range(len(x1[i])):\n",
        "            if embedding.get(x1[i][j]) is not None:\n",
        "                embedding_output[i][j] = embedding[x1[i][j].lower()]\n",
        "                \n",
        "    return embedding_output"
      ],
      "execution_count": null,
      "outputs": []
    },
    {
      "cell_type": "markdown",
      "metadata": {
        "id": "dOhp0kFJbybT"
      },
      "source": [
        "# Embedding For Subject"
      ]
    },
    {
      "cell_type": "code",
      "metadata": {
        "id": "olENwMpnbUiD"
      },
      "source": [
        "def get_embedding_index_subject(x):\n",
        "    maxlen = 2\n",
        "    embedding_output = np.zeros((len(x),maxlen,50))\n",
        "    x1 = []\n",
        "    for i in range(len(x)):\n",
        "        x1.append(x[i].split())\n",
        "        if len(x1[i])>2:\n",
        "            x1[i] = x1[i][:2]\n",
        "        for j in range(len(x1[i])):\n",
        "            if embedding.get(x1[i][j]) is not None:\n",
        "                embedding_output[i][j] = embedding[x1[i][j].lower()]\n",
        "                \n",
        "    return embedding_output"
      ],
      "execution_count": null,
      "outputs": []
    },
    {
      "cell_type": "code",
      "metadata": {
        "id": "v2KeWqjlbWKs"
      },
      "source": [
        "# news_token = np.array(news_token)\n",
        "# news_test_token = np.array(news_test_token)"
      ],
      "execution_count": null,
      "outputs": []
    },
    {
      "cell_type": "code",
      "metadata": {
        "id": "A7LsZbmvcC7i"
      },
      "source": [
        "# subject_test_token = np.array(subject_test_token)\n",
        "# subject_token = np.array(subject_token)"
      ],
      "execution_count": null,
      "outputs": []
    },
    {
      "cell_type": "code",
      "metadata": {
        "id": "4cYAL7eJcM_P"
      },
      "source": [
        "# title_token = np.array(title_token)\n",
        "# title_test_token = np.array(title_test_token)"
      ],
      "execution_count": null,
      "outputs": []
    },
    {
      "cell_type": "markdown",
      "metadata": {
        "id": "O7wQ6myPce9Z"
      },
      "source": [
        "# Train Embedding"
      ]
    },
    {
      "cell_type": "code",
      "metadata": {
        "id": "6zGbPOoKcWye"
      },
      "source": [
        "train_embedding_news = get_embedding_index_news(news_token)"
      ],
      "execution_count": null,
      "outputs": []
    },
    {
      "cell_type": "code",
      "metadata": {
        "id": "l8wLMrJacoOX"
      },
      "source": [
        "test_embedding_news = get_embedding_index_news(news_test_token)"
      ],
      "execution_count": null,
      "outputs": []
    },
    {
      "cell_type": "code",
      "metadata": {
        "id": "xSWnh4sMfxNr"
      },
      "source": [
        "train_embedding_title = get_embedding_index_title(title_token)"
      ],
      "execution_count": null,
      "outputs": []
    },
    {
      "cell_type": "code",
      "metadata": {
        "id": "X9tAUvr_nDJU"
      },
      "source": [
        "test_embedding_title = get_embedding_index_title(title_test_token)"
      ],
      "execution_count": null,
      "outputs": []
    },
    {
      "cell_type": "code",
      "metadata": {
        "id": "ODCpFfi_nLbk"
      },
      "source": [
        "train_embedding_subject = get_embedding_index_subject(subject_token)"
      ],
      "execution_count": null,
      "outputs": []
    },
    {
      "cell_type": "code",
      "metadata": {
        "id": "lpCCY8ofnTKL"
      },
      "source": [
        "test_embedding_subject = get_embedding_index_subject(subject_test_token)"
      ],
      "execution_count": null,
      "outputs": []
    },
    {
      "cell_type": "markdown",
      "metadata": {
        "id": "qFK2H5BTnifX"
      },
      "source": [
        "# Train Size"
      ]
    },
    {
      "cell_type": "code",
      "metadata": {
        "id": "8Pk8S0B5naKB",
        "outputId": "e24e6184-df3d-44de-a6b7-bc21ab3d5c84",
        "colab": {
          "base_uri": "https://localhost:8080/",
          "height": 36
        }
      },
      "source": [
        "train_embedding_news.shape,train_embedding_subject.shape,train_embedding_title.shape"
      ],
      "execution_count": null,
      "outputs": [
        {
          "output_type": "execute_result",
          "data": {
            "text/plain": [
              "((40000, 100, 50), (40000, 2, 50), (40000, 15, 50))"
            ]
          },
          "metadata": {
            "tags": []
          },
          "execution_count": 68
        }
      ]
    },
    {
      "cell_type": "markdown",
      "metadata": {
        "id": "DXuM2rctob5Z"
      },
      "source": [
        "# Test Size"
      ]
    },
    {
      "cell_type": "code",
      "metadata": {
        "id": "Jg8PikBPoQ4L",
        "outputId": "359a020a-e621-4014-f76f-e4ff74e07e73",
        "colab": {
          "base_uri": "https://localhost:8080/",
          "height": 36
        }
      },
      "source": [
        "test_embedding_news.shape,test_embedding_title.shape,test_embedding_subject.shape"
      ],
      "execution_count": null,
      "outputs": [
        {
          "output_type": "execute_result",
          "data": {
            "text/plain": [
              "((4000, 100, 50), (4000, 15, 50), (4000, 2, 50))"
            ]
          },
          "metadata": {
            "tags": []
          },
          "execution_count": 69
        }
      ]
    },
    {
      "cell_type": "markdown",
      "metadata": {
        "id": "25mLmJOCojKE"
      },
      "source": [
        "# Combining Train Embedding"
      ]
    },
    {
      "cell_type": "code",
      "metadata": {
        "id": "7Qg6ExWOof6y"
      },
      "source": [
        "x_train_embedding = np.hstack((train_embedding_news,train_embedding_title))"
      ],
      "execution_count": null,
      "outputs": []
    },
    {
      "cell_type": "code",
      "metadata": {
        "id": "Xs93l3Kfotco"
      },
      "source": [
        "x_train_embedding = np.hstack((x_train_embedding,train_embedding_subject))"
      ],
      "execution_count": null,
      "outputs": []
    },
    {
      "cell_type": "code",
      "metadata": {
        "id": "eL0RahgXowNJ",
        "outputId": "3c531c6a-1f0c-4ba5-dd79-9195063a13a7",
        "colab": {
          "base_uri": "https://localhost:8080/",
          "height": 36
        }
      },
      "source": [
        "x_train_embedding.shape"
      ],
      "execution_count": null,
      "outputs": [
        {
          "output_type": "execute_result",
          "data": {
            "text/plain": [
              "(40000, 117, 50)"
            ]
          },
          "metadata": {
            "tags": []
          },
          "execution_count": 72
        }
      ]
    },
    {
      "cell_type": "markdown",
      "metadata": {
        "id": "hb_wBvrdo04J"
      },
      "source": [
        "# Combining test embedding"
      ]
    },
    {
      "cell_type": "code",
      "metadata": {
        "id": "RbvSTDAboyQa"
      },
      "source": [
        "x_test_embedding = np.hstack((test_embedding_news,test_embedding_title))"
      ],
      "execution_count": null,
      "outputs": []
    },
    {
      "cell_type": "code",
      "metadata": {
        "id": "WWfnVmHAqvyf"
      },
      "source": [
        "x_test_embedding = np.hstack((x_test_embedding,test_embedding_subject))"
      ],
      "execution_count": null,
      "outputs": []
    },
    {
      "cell_type": "code",
      "metadata": {
        "id": "zsJN8eAiqxpw",
        "outputId": "dce01183-cd90-4b0d-dee2-329bff90506c",
        "colab": {
          "base_uri": "https://localhost:8080/",
          "height": 36
        }
      },
      "source": [
        "x_test_embedding.shape"
      ],
      "execution_count": null,
      "outputs": [
        {
          "output_type": "execute_result",
          "data": {
            "text/plain": [
              "(4000, 117, 50)"
            ]
          },
          "metadata": {
            "tags": []
          },
          "execution_count": 75
        }
      ]
    },
    {
      "cell_type": "markdown",
      "metadata": {
        "id": "8BbhAdeTrNcL"
      },
      "source": [
        "# Converting To Categorical Features"
      ]
    },
    {
      "cell_type": "code",
      "metadata": {
        "id": "KMwIrKcSvbGH"
      },
      "source": [
        "from sklearn import preprocessing"
      ],
      "execution_count": null,
      "outputs": []
    },
    {
      "cell_type": "code",
      "metadata": {
        "id": "UBszZ7Vpvb-0"
      },
      "source": [
        "le = preprocessing.LabelEncoder()"
      ],
      "execution_count": null,
      "outputs": []
    },
    {
      "cell_type": "code",
      "metadata": {
        "id": "rP0S6dT2vgyH"
      },
      "source": [
        "y_train = le.fit_transform(y_train)"
      ],
      "execution_count": null,
      "outputs": []
    },
    {
      "cell_type": "code",
      "metadata": {
        "id": "_eQr_vNRvmUq",
        "outputId": "32b034e4-1118-4aae-f182-4951ce2382ce",
        "colab": {
          "base_uri": "https://localhost:8080/",
          "height": 36
        }
      },
      "source": [
        "y_train.shape"
      ],
      "execution_count": null,
      "outputs": [
        {
          "output_type": "execute_result",
          "data": {
            "text/plain": [
              "(40000,)"
            ]
          },
          "metadata": {
            "tags": []
          },
          "execution_count": 98
        }
      ]
    },
    {
      "cell_type": "code",
      "metadata": {
        "id": "p2gzzyeEqzkA"
      },
      "source": [
        "from keras.utils import to_categorical"
      ],
      "execution_count": null,
      "outputs": []
    },
    {
      "cell_type": "code",
      "metadata": {
        "id": "Jo75EmgwrjYU"
      },
      "source": [
        "y_train = to_categorical(y_train)"
      ],
      "execution_count": null,
      "outputs": []
    },
    {
      "cell_type": "code",
      "metadata": {
        "id": "TZcjGMFArk6J",
        "outputId": "6d844b10-1aae-4d2a-b092-02bc940ab117",
        "colab": {
          "base_uri": "https://localhost:8080/",
          "height": 36
        }
      },
      "source": [
        "y_train.shape"
      ],
      "execution_count": null,
      "outputs": [
        {
          "output_type": "execute_result",
          "data": {
            "text/plain": [
              "(40000, 2)"
            ]
          },
          "metadata": {
            "tags": []
          },
          "execution_count": 100
        }
      ]
    },
    {
      "cell_type": "markdown",
      "metadata": {
        "id": "RGtJi4CmvxAG"
      },
      "source": [
        "# By Using RNN"
      ]
    },
    {
      "cell_type": "code",
      "metadata": {
        "id": "oNHq4ULYrpP4"
      },
      "source": [
        "from keras.layers import *\n",
        "from keras.models import Model,Sequential"
      ],
      "execution_count": null,
      "outputs": []
    },
    {
      "cell_type": "code",
      "metadata": {
        "id": "9MWYpub9wJEb"
      },
      "source": [
        "model = Sequential()\n",
        "model.add(LSTM(units=32,input_shape=(117,50),return_sequences=True))\n",
        "model.add(LSTM(units=32,return_sequences=True))\n",
        "model.add(Dropout(0.2))\n",
        "model.add(LSTM(units=64))\n",
        "# model.add(LSTM(units=64,return_sequences=True))\n",
        "# model.add(Dropout(0.2))\n",
        "# model.add(LSTM(units=32,return_sequences=True))\n",
        "model.add(Dense(units=32,activation=\"tanh\"))\n",
        "model.add(Dropout(0.1))\n",
        "model.add(Dense(units=32,activation=\"tanh\"))\n",
        "model.add(Dense(units=2,activation=\"softmax\"))"
      ],
      "execution_count": null,
      "outputs": []
    },
    {
      "cell_type": "code",
      "metadata": {
        "id": "7OjK5ckEyNEU",
        "outputId": "f313b7c2-2d63-4fb4-c4ea-41a8f0fd3c40",
        "colab": {
          "base_uri": "https://localhost:8080/",
          "height": 466
        }
      },
      "source": [
        "model.summary()"
      ],
      "execution_count": null,
      "outputs": [
        {
          "output_type": "stream",
          "text": [
            "Model: \"sequential_3\"\n",
            "_________________________________________________________________\n",
            "Layer (type)                 Output Shape              Param #   \n",
            "=================================================================\n",
            "lstm_9 (LSTM)                (None, 117, 32)           10624     \n",
            "_________________________________________________________________\n",
            "lstm_10 (LSTM)               (None, 117, 32)           8320      \n",
            "_________________________________________________________________\n",
            "dropout_6 (Dropout)          (None, 117, 32)           0         \n",
            "_________________________________________________________________\n",
            "lstm_11 (LSTM)               (None, 64)                24832     \n",
            "_________________________________________________________________\n",
            "dense_8 (Dense)              (None, 32)                2080      \n",
            "_________________________________________________________________\n",
            "dropout_7 (Dropout)          (None, 32)                0         \n",
            "_________________________________________________________________\n",
            "dense_9 (Dense)              (None, 32)                1056      \n",
            "_________________________________________________________________\n",
            "dense_10 (Dense)             (None, 2)                 66        \n",
            "=================================================================\n",
            "Total params: 46,978\n",
            "Trainable params: 46,978\n",
            "Non-trainable params: 0\n",
            "_________________________________________________________________\n"
          ],
          "name": "stdout"
        }
      ]
    },
    {
      "cell_type": "code",
      "metadata": {
        "id": "2_hGMrvQyYQg"
      },
      "source": [
        "model.compile(optimizer=\"adam\",loss=\"binary_crossentropy\",metrics=[\"accuracy\"])"
      ],
      "execution_count": null,
      "outputs": []
    },
    {
      "cell_type": "code",
      "metadata": {
        "id": "uA-jhr14ybYG",
        "outputId": "fa1d6e17-9952-423b-e532-9ff281249340",
        "colab": {
          "base_uri": "https://localhost:8080/",
          "height": 442
        }
      },
      "source": [
        "hist = model.fit(x_train_embedding,y_train,validation_split=0.2,shuffle =True,batch_size=32,epochs=75)"
      ],
      "execution_count": null,
      "outputs": [
        {
          "output_type": "stream",
          "text": [
            "Epoch 1/75\n",
            "1000/1000 [==============================] - 117s 117ms/step - loss: 0.0447 - accuracy: 0.9800 - val_loss: 1.2332e-04 - val_accuracy: 1.0000\n",
            "Epoch 2/75\n",
            " 182/1000 [====>.........................] - ETA: 1:30 - loss: 1.3718e-04 - accuracy: 1.0000"
          ],
          "name": "stdout"
        },
        {
          "output_type": "error",
          "ename": "KeyboardInterrupt",
          "evalue": "ignored",
          "traceback": [
            "\u001b[0;31m---------------------------------------------------------------------------\u001b[0m",
            "\u001b[0;31mKeyboardInterrupt\u001b[0m                         Traceback (most recent call last)",
            "\u001b[0;32m<ipython-input-119-d4b54f4d8f57>\u001b[0m in \u001b[0;36m<module>\u001b[0;34m()\u001b[0m\n\u001b[0;32m----> 1\u001b[0;31m \u001b[0mhist\u001b[0m \u001b[0;34m=\u001b[0m \u001b[0mmodel\u001b[0m\u001b[0;34m.\u001b[0m\u001b[0mfit\u001b[0m\u001b[0;34m(\u001b[0m\u001b[0mx_train_embedding\u001b[0m\u001b[0;34m,\u001b[0m\u001b[0my_train\u001b[0m\u001b[0;34m,\u001b[0m\u001b[0mvalidation_split\u001b[0m\u001b[0;34m=\u001b[0m\u001b[0;36m0.2\u001b[0m\u001b[0;34m,\u001b[0m\u001b[0mshuffle\u001b[0m \u001b[0;34m=\u001b[0m\u001b[0;32mTrue\u001b[0m\u001b[0;34m,\u001b[0m\u001b[0mbatch_size\u001b[0m\u001b[0;34m=\u001b[0m\u001b[0;36m32\u001b[0m\u001b[0;34m,\u001b[0m\u001b[0mepochs\u001b[0m\u001b[0;34m=\u001b[0m\u001b[0;36m75\u001b[0m\u001b[0;34m)\u001b[0m\u001b[0;34m\u001b[0m\u001b[0;34m\u001b[0m\u001b[0m\n\u001b[0m",
            "\u001b[0;32m/usr/local/lib/python3.6/dist-packages/tensorflow/python/keras/engine/training.py\u001b[0m in \u001b[0;36m_method_wrapper\u001b[0;34m(self, *args, **kwargs)\u001b[0m\n\u001b[1;32m    106\u001b[0m   \u001b[0;32mdef\u001b[0m \u001b[0m_method_wrapper\u001b[0m\u001b[0;34m(\u001b[0m\u001b[0mself\u001b[0m\u001b[0;34m,\u001b[0m \u001b[0;34m*\u001b[0m\u001b[0margs\u001b[0m\u001b[0;34m,\u001b[0m \u001b[0;34m**\u001b[0m\u001b[0mkwargs\u001b[0m\u001b[0;34m)\u001b[0m\u001b[0;34m:\u001b[0m\u001b[0;34m\u001b[0m\u001b[0;34m\u001b[0m\u001b[0m\n\u001b[1;32m    107\u001b[0m     \u001b[0;32mif\u001b[0m \u001b[0;32mnot\u001b[0m \u001b[0mself\u001b[0m\u001b[0;34m.\u001b[0m\u001b[0m_in_multi_worker_mode\u001b[0m\u001b[0;34m(\u001b[0m\u001b[0;34m)\u001b[0m\u001b[0;34m:\u001b[0m  \u001b[0;31m# pylint: disable=protected-access\u001b[0m\u001b[0;34m\u001b[0m\u001b[0;34m\u001b[0m\u001b[0m\n\u001b[0;32m--> 108\u001b[0;31m       \u001b[0;32mreturn\u001b[0m \u001b[0mmethod\u001b[0m\u001b[0;34m(\u001b[0m\u001b[0mself\u001b[0m\u001b[0;34m,\u001b[0m \u001b[0;34m*\u001b[0m\u001b[0margs\u001b[0m\u001b[0;34m,\u001b[0m \u001b[0;34m**\u001b[0m\u001b[0mkwargs\u001b[0m\u001b[0;34m)\u001b[0m\u001b[0;34m\u001b[0m\u001b[0;34m\u001b[0m\u001b[0m\n\u001b[0m\u001b[1;32m    109\u001b[0m \u001b[0;34m\u001b[0m\u001b[0m\n\u001b[1;32m    110\u001b[0m     \u001b[0;31m# Running inside `run_distribute_coordinator` already.\u001b[0m\u001b[0;34m\u001b[0m\u001b[0;34m\u001b[0m\u001b[0;34m\u001b[0m\u001b[0m\n",
            "\u001b[0;32m/usr/local/lib/python3.6/dist-packages/tensorflow/python/keras/engine/training.py\u001b[0m in \u001b[0;36mfit\u001b[0;34m(self, x, y, batch_size, epochs, verbose, callbacks, validation_split, validation_data, shuffle, class_weight, sample_weight, initial_epoch, steps_per_epoch, validation_steps, validation_batch_size, validation_freq, max_queue_size, workers, use_multiprocessing)\u001b[0m\n\u001b[1;32m   1096\u001b[0m                 batch_size=batch_size):\n\u001b[1;32m   1097\u001b[0m               \u001b[0mcallbacks\u001b[0m\u001b[0;34m.\u001b[0m\u001b[0mon_train_batch_begin\u001b[0m\u001b[0;34m(\u001b[0m\u001b[0mstep\u001b[0m\u001b[0;34m)\u001b[0m\u001b[0;34m\u001b[0m\u001b[0;34m\u001b[0m\u001b[0m\n\u001b[0;32m-> 1098\u001b[0;31m               \u001b[0mtmp_logs\u001b[0m \u001b[0;34m=\u001b[0m \u001b[0mtrain_function\u001b[0m\u001b[0;34m(\u001b[0m\u001b[0miterator\u001b[0m\u001b[0;34m)\u001b[0m\u001b[0;34m\u001b[0m\u001b[0;34m\u001b[0m\u001b[0m\n\u001b[0m\u001b[1;32m   1099\u001b[0m               \u001b[0;32mif\u001b[0m \u001b[0mdata_handler\u001b[0m\u001b[0;34m.\u001b[0m\u001b[0mshould_sync\u001b[0m\u001b[0;34m:\u001b[0m\u001b[0;34m\u001b[0m\u001b[0;34m\u001b[0m\u001b[0m\n\u001b[1;32m   1100\u001b[0m                 \u001b[0mcontext\u001b[0m\u001b[0;34m.\u001b[0m\u001b[0masync_wait\u001b[0m\u001b[0;34m(\u001b[0m\u001b[0;34m)\u001b[0m\u001b[0;34m\u001b[0m\u001b[0;34m\u001b[0m\u001b[0m\n",
            "\u001b[0;32m/usr/local/lib/python3.6/dist-packages/tensorflow/python/eager/def_function.py\u001b[0m in \u001b[0;36m__call__\u001b[0;34m(self, *args, **kwds)\u001b[0m\n\u001b[1;32m    778\u001b[0m       \u001b[0;32melse\u001b[0m\u001b[0;34m:\u001b[0m\u001b[0;34m\u001b[0m\u001b[0;34m\u001b[0m\u001b[0m\n\u001b[1;32m    779\u001b[0m         \u001b[0mcompiler\u001b[0m \u001b[0;34m=\u001b[0m \u001b[0;34m\"nonXla\"\u001b[0m\u001b[0;34m\u001b[0m\u001b[0;34m\u001b[0m\u001b[0m\n\u001b[0;32m--> 780\u001b[0;31m         \u001b[0mresult\u001b[0m \u001b[0;34m=\u001b[0m \u001b[0mself\u001b[0m\u001b[0;34m.\u001b[0m\u001b[0m_call\u001b[0m\u001b[0;34m(\u001b[0m\u001b[0;34m*\u001b[0m\u001b[0margs\u001b[0m\u001b[0;34m,\u001b[0m \u001b[0;34m**\u001b[0m\u001b[0mkwds\u001b[0m\u001b[0;34m)\u001b[0m\u001b[0;34m\u001b[0m\u001b[0;34m\u001b[0m\u001b[0m\n\u001b[0m\u001b[1;32m    781\u001b[0m \u001b[0;34m\u001b[0m\u001b[0m\n\u001b[1;32m    782\u001b[0m       \u001b[0mnew_tracing_count\u001b[0m \u001b[0;34m=\u001b[0m \u001b[0mself\u001b[0m\u001b[0;34m.\u001b[0m\u001b[0m_get_tracing_count\u001b[0m\u001b[0;34m(\u001b[0m\u001b[0;34m)\u001b[0m\u001b[0;34m\u001b[0m\u001b[0;34m\u001b[0m\u001b[0m\n",
            "\u001b[0;32m/usr/local/lib/python3.6/dist-packages/tensorflow/python/eager/def_function.py\u001b[0m in \u001b[0;36m_call\u001b[0;34m(self, *args, **kwds)\u001b[0m\n\u001b[1;32m    805\u001b[0m       \u001b[0;31m# In this case we have created variables on the first call, so we run the\u001b[0m\u001b[0;34m\u001b[0m\u001b[0;34m\u001b[0m\u001b[0;34m\u001b[0m\u001b[0m\n\u001b[1;32m    806\u001b[0m       \u001b[0;31m# defunned version which is guaranteed to never create variables.\u001b[0m\u001b[0;34m\u001b[0m\u001b[0;34m\u001b[0m\u001b[0;34m\u001b[0m\u001b[0m\n\u001b[0;32m--> 807\u001b[0;31m       \u001b[0;32mreturn\u001b[0m \u001b[0mself\u001b[0m\u001b[0;34m.\u001b[0m\u001b[0m_stateless_fn\u001b[0m\u001b[0;34m(\u001b[0m\u001b[0;34m*\u001b[0m\u001b[0margs\u001b[0m\u001b[0;34m,\u001b[0m \u001b[0;34m**\u001b[0m\u001b[0mkwds\u001b[0m\u001b[0;34m)\u001b[0m  \u001b[0;31m# pylint: disable=not-callable\u001b[0m\u001b[0;34m\u001b[0m\u001b[0;34m\u001b[0m\u001b[0m\n\u001b[0m\u001b[1;32m    808\u001b[0m     \u001b[0;32melif\u001b[0m \u001b[0mself\u001b[0m\u001b[0;34m.\u001b[0m\u001b[0m_stateful_fn\u001b[0m \u001b[0;32mis\u001b[0m \u001b[0;32mnot\u001b[0m \u001b[0;32mNone\u001b[0m\u001b[0;34m:\u001b[0m\u001b[0;34m\u001b[0m\u001b[0;34m\u001b[0m\u001b[0m\n\u001b[1;32m    809\u001b[0m       \u001b[0;31m# Release the lock early so that multiple threads can perform the call\u001b[0m\u001b[0;34m\u001b[0m\u001b[0;34m\u001b[0m\u001b[0;34m\u001b[0m\u001b[0m\n",
            "\u001b[0;32m/usr/local/lib/python3.6/dist-packages/tensorflow/python/eager/function.py\u001b[0m in \u001b[0;36m__call__\u001b[0;34m(self, *args, **kwargs)\u001b[0m\n\u001b[1;32m   2827\u001b[0m     \u001b[0;32mwith\u001b[0m \u001b[0mself\u001b[0m\u001b[0;34m.\u001b[0m\u001b[0m_lock\u001b[0m\u001b[0;34m:\u001b[0m\u001b[0;34m\u001b[0m\u001b[0;34m\u001b[0m\u001b[0m\n\u001b[1;32m   2828\u001b[0m       \u001b[0mgraph_function\u001b[0m\u001b[0;34m,\u001b[0m \u001b[0margs\u001b[0m\u001b[0;34m,\u001b[0m \u001b[0mkwargs\u001b[0m \u001b[0;34m=\u001b[0m \u001b[0mself\u001b[0m\u001b[0;34m.\u001b[0m\u001b[0m_maybe_define_function\u001b[0m\u001b[0;34m(\u001b[0m\u001b[0margs\u001b[0m\u001b[0;34m,\u001b[0m \u001b[0mkwargs\u001b[0m\u001b[0;34m)\u001b[0m\u001b[0;34m\u001b[0m\u001b[0;34m\u001b[0m\u001b[0m\n\u001b[0;32m-> 2829\u001b[0;31m     \u001b[0;32mreturn\u001b[0m \u001b[0mgraph_function\u001b[0m\u001b[0;34m.\u001b[0m\u001b[0m_filtered_call\u001b[0m\u001b[0;34m(\u001b[0m\u001b[0margs\u001b[0m\u001b[0;34m,\u001b[0m \u001b[0mkwargs\u001b[0m\u001b[0;34m)\u001b[0m  \u001b[0;31m# pylint: disable=protected-access\u001b[0m\u001b[0;34m\u001b[0m\u001b[0;34m\u001b[0m\u001b[0m\n\u001b[0m\u001b[1;32m   2830\u001b[0m \u001b[0;34m\u001b[0m\u001b[0m\n\u001b[1;32m   2831\u001b[0m   \u001b[0;34m@\u001b[0m\u001b[0mproperty\u001b[0m\u001b[0;34m\u001b[0m\u001b[0;34m\u001b[0m\u001b[0m\n",
            "\u001b[0;32m/usr/local/lib/python3.6/dist-packages/tensorflow/python/eager/function.py\u001b[0m in \u001b[0;36m_filtered_call\u001b[0;34m(self, args, kwargs, cancellation_manager)\u001b[0m\n\u001b[1;32m   1846\u001b[0m                            resource_variable_ops.BaseResourceVariable))],\n\u001b[1;32m   1847\u001b[0m         \u001b[0mcaptured_inputs\u001b[0m\u001b[0;34m=\u001b[0m\u001b[0mself\u001b[0m\u001b[0;34m.\u001b[0m\u001b[0mcaptured_inputs\u001b[0m\u001b[0;34m,\u001b[0m\u001b[0;34m\u001b[0m\u001b[0;34m\u001b[0m\u001b[0m\n\u001b[0;32m-> 1848\u001b[0;31m         cancellation_manager=cancellation_manager)\n\u001b[0m\u001b[1;32m   1849\u001b[0m \u001b[0;34m\u001b[0m\u001b[0m\n\u001b[1;32m   1850\u001b[0m   \u001b[0;32mdef\u001b[0m \u001b[0m_call_flat\u001b[0m\u001b[0;34m(\u001b[0m\u001b[0mself\u001b[0m\u001b[0;34m,\u001b[0m \u001b[0margs\u001b[0m\u001b[0;34m,\u001b[0m \u001b[0mcaptured_inputs\u001b[0m\u001b[0;34m,\u001b[0m \u001b[0mcancellation_manager\u001b[0m\u001b[0;34m=\u001b[0m\u001b[0;32mNone\u001b[0m\u001b[0;34m)\u001b[0m\u001b[0;34m:\u001b[0m\u001b[0;34m\u001b[0m\u001b[0;34m\u001b[0m\u001b[0m\n",
            "\u001b[0;32m/usr/local/lib/python3.6/dist-packages/tensorflow/python/eager/function.py\u001b[0m in \u001b[0;36m_call_flat\u001b[0;34m(self, args, captured_inputs, cancellation_manager)\u001b[0m\n\u001b[1;32m   1922\u001b[0m       \u001b[0;31m# No tape is watching; skip to running the function.\u001b[0m\u001b[0;34m\u001b[0m\u001b[0;34m\u001b[0m\u001b[0;34m\u001b[0m\u001b[0m\n\u001b[1;32m   1923\u001b[0m       return self._build_call_outputs(self._inference_function.call(\n\u001b[0;32m-> 1924\u001b[0;31m           ctx, args, cancellation_manager=cancellation_manager))\n\u001b[0m\u001b[1;32m   1925\u001b[0m     forward_backward = self._select_forward_and_backward_functions(\n\u001b[1;32m   1926\u001b[0m         \u001b[0margs\u001b[0m\u001b[0;34m,\u001b[0m\u001b[0;34m\u001b[0m\u001b[0;34m\u001b[0m\u001b[0m\n",
            "\u001b[0;32m/usr/local/lib/python3.6/dist-packages/tensorflow/python/eager/function.py\u001b[0m in \u001b[0;36mcall\u001b[0;34m(self, ctx, args, cancellation_manager)\u001b[0m\n\u001b[1;32m    548\u001b[0m               \u001b[0minputs\u001b[0m\u001b[0;34m=\u001b[0m\u001b[0margs\u001b[0m\u001b[0;34m,\u001b[0m\u001b[0;34m\u001b[0m\u001b[0;34m\u001b[0m\u001b[0m\n\u001b[1;32m    549\u001b[0m               \u001b[0mattrs\u001b[0m\u001b[0;34m=\u001b[0m\u001b[0mattrs\u001b[0m\u001b[0;34m,\u001b[0m\u001b[0;34m\u001b[0m\u001b[0;34m\u001b[0m\u001b[0m\n\u001b[0;32m--> 550\u001b[0;31m               ctx=ctx)\n\u001b[0m\u001b[1;32m    551\u001b[0m         \u001b[0;32melse\u001b[0m\u001b[0;34m:\u001b[0m\u001b[0;34m\u001b[0m\u001b[0;34m\u001b[0m\u001b[0m\n\u001b[1;32m    552\u001b[0m           outputs = execute.execute_with_cancellation(\n",
            "\u001b[0;32m/usr/local/lib/python3.6/dist-packages/tensorflow/python/eager/execute.py\u001b[0m in \u001b[0;36mquick_execute\u001b[0;34m(op_name, num_outputs, inputs, attrs, ctx, name)\u001b[0m\n\u001b[1;32m     58\u001b[0m     \u001b[0mctx\u001b[0m\u001b[0;34m.\u001b[0m\u001b[0mensure_initialized\u001b[0m\u001b[0;34m(\u001b[0m\u001b[0;34m)\u001b[0m\u001b[0;34m\u001b[0m\u001b[0;34m\u001b[0m\u001b[0m\n\u001b[1;32m     59\u001b[0m     tensors = pywrap_tfe.TFE_Py_Execute(ctx._handle, device_name, op_name,\n\u001b[0;32m---> 60\u001b[0;31m                                         inputs, attrs, num_outputs)\n\u001b[0m\u001b[1;32m     61\u001b[0m   \u001b[0;32mexcept\u001b[0m \u001b[0mcore\u001b[0m\u001b[0;34m.\u001b[0m\u001b[0m_NotOkStatusException\u001b[0m \u001b[0;32mas\u001b[0m \u001b[0me\u001b[0m\u001b[0;34m:\u001b[0m\u001b[0;34m\u001b[0m\u001b[0;34m\u001b[0m\u001b[0m\n\u001b[1;32m     62\u001b[0m     \u001b[0;32mif\u001b[0m \u001b[0mname\u001b[0m \u001b[0;32mis\u001b[0m \u001b[0;32mnot\u001b[0m \u001b[0;32mNone\u001b[0m\u001b[0;34m:\u001b[0m\u001b[0;34m\u001b[0m\u001b[0;34m\u001b[0m\u001b[0m\n",
            "\u001b[0;31mKeyboardInterrupt\u001b[0m: "
          ]
        }
      ]
    },
    {
      "cell_type": "code",
      "metadata": {
        "id": "fFd_MshLyiEm",
        "outputId": "acbd12a8-38fa-4b0a-f2da-afe3d33c4246",
        "colab": {
          "base_uri": "https://localhost:8080/",
          "height": 36
        }
      },
      "source": [
        "x_train_embedding.shape,y_train.shape"
      ],
      "execution_count": null,
      "outputs": [
        {
          "output_type": "execute_result",
          "data": {
            "text/plain": [
              "((40000, 117, 50), (40000, 2))"
            ]
          },
          "metadata": {
            "tags": []
          },
          "execution_count": 115
        }
      ]
    },
    {
      "cell_type": "code",
      "metadata": {
        "id": "C5qdg7nvzLVw",
        "outputId": "28089f7c-cd7d-4460-8784-b83d50ddcc2a",
        "colab": {
          "base_uri": "https://localhost:8080/",
          "height": 93
        }
      },
      "source": [
        "y_pred = model.predict_classes(x_test_embedding)"
      ],
      "execution_count": null,
      "outputs": [
        {
          "output_type": "stream",
          "text": [
            "WARNING:tensorflow:From <ipython-input-122-557935b13ac9>:1: Sequential.predict_classes (from tensorflow.python.keras.engine.sequential) is deprecated and will be removed after 2021-01-01.\n",
            "Instructions for updating:\n",
            "Please use instead:* `np.argmax(model.predict(x), axis=-1)`,   if your model does multi-class classification   (e.g. if it uses a `softmax` last-layer activation).* `(model.predict(x) > 0.5).astype(\"int32\")`,   if your model does binary classification   (e.g. if it uses a `sigmoid` last-layer activation).\n"
          ],
          "name": "stdout"
        }
      ]
    },
    {
      "cell_type": "code",
      "metadata": {
        "id": "xgSpBKHK4dgu",
        "outputId": "878e0360-470c-47fc-81d7-8b8f53077353",
        "colab": {
          "base_uri": "https://localhost:8080/",
          "height": 36
        }
      },
      "source": [
        "y_pred"
      ],
      "execution_count": null,
      "outputs": [
        {
          "output_type": "execute_result",
          "data": {
            "text/plain": [
              "array([0, 1, 0, ..., 0, 0, 0])"
            ]
          },
          "metadata": {
            "tags": []
          },
          "execution_count": 123
        }
      ]
    },
    {
      "cell_type": "code",
      "metadata": {
        "id": "_0PB9QgJ5ydh",
        "outputId": "4c0bf180-9b98-48db-d089-2099bb0e5e08",
        "colab": {
          "base_uri": "https://localhost:8080/",
          "height": 36
        }
      },
      "source": [
        "np.unique(y_pred)"
      ],
      "execution_count": null,
      "outputs": [
        {
          "output_type": "execute_result",
          "data": {
            "text/plain": [
              "array([0, 1])"
            ]
          },
          "metadata": {
            "tags": []
          },
          "execution_count": 124
        }
      ]
    },
    {
      "cell_type": "code",
      "metadata": {
        "id": "zNeFjP4p4ftJ"
      },
      "source": [
        "pred = []\n",
        "for i in range(y_pred.shape[0]):\n",
        "  if y_pred[i]==0:\n",
        "    pred.append(\"Fake\")\n",
        "  else:\n",
        "    pred.append(\"Real\")"
      ],
      "execution_count": null,
      "outputs": []
    },
    {
      "cell_type": "code",
      "metadata": {
        "id": "Jep-itLl54yc"
      },
      "source": [
        "pred = np.array(pred)"
      ],
      "execution_count": null,
      "outputs": []
    },
    {
      "cell_type": "code",
      "metadata": {
        "id": "UMHCJhwm7WXr"
      },
      "source": [
        "index = []\n",
        "for i in range(0,pred.shape[0]):\n",
        "  index.append(i)"
      ],
      "execution_count": null,
      "outputs": []
    },
    {
      "cell_type": "code",
      "metadata": {
        "id": "hRfrp_QI7-4f"
      },
      "source": [
        "index = np.array(index)"
      ],
      "execution_count": null,
      "outputs": []
    },
    {
      "cell_type": "code",
      "metadata": {
        "id": "-nmEeqVq8CTq"
      },
      "source": [
        "index = index.reshape(index.shape[0],1)\n",
        "pred = pred.reshape(pred.shape[0],1)"
      ],
      "execution_count": null,
      "outputs": []
    },
    {
      "cell_type": "code",
      "metadata": {
        "id": "02_O5WcU8DZs",
        "outputId": "6809e91e-b4c0-409b-f3f1-248464a00996",
        "colab": {
          "base_uri": "https://localhost:8080/",
          "height": 36
        }
      },
      "source": [
        "index.shape,pred.shape"
      ],
      "execution_count": null,
      "outputs": [
        {
          "output_type": "execute_result",
          "data": {
            "text/plain": [
              "((4000, 1), (4000, 1))"
            ]
          },
          "metadata": {
            "tags": []
          },
          "execution_count": 137
        }
      ]
    },
    {
      "cell_type": "code",
      "metadata": {
        "id": "UgQtigvk8RPd"
      },
      "source": [
        "y_prediction = np.hstack((index,pred))"
      ],
      "execution_count": null,
      "outputs": []
    },
    {
      "cell_type": "code",
      "metadata": {
        "id": "8DLDf3GN8meN",
        "outputId": "98e677c0-f682-451b-a54c-2f52b5235195",
        "colab": {
          "base_uri": "https://localhost:8080/",
          "height": 148
        }
      },
      "source": [
        "y_prediction"
      ],
      "execution_count": null,
      "outputs": [
        {
          "output_type": "execute_result",
          "data": {
            "text/plain": [
              "array([['0', 'Fake'],\n",
              "       ['1', 'Real'],\n",
              "       ['2', 'Fake'],\n",
              "       ...,\n",
              "       ['3997', 'Fake'],\n",
              "       ['3998', 'Fake'],\n",
              "       ['3999', 'Fake']], dtype='<U21')"
            ]
          },
          "metadata": {
            "tags": []
          },
          "execution_count": 139
        }
      ]
    },
    {
      "cell_type": "code",
      "metadata": {
        "id": "NeHrsJmH8n2m"
      },
      "source": [
        "df = pd.DataFrame(data=y_prediction, columns=['index',\"class\"])\n",
        "df.to_csv(\"Fake_News_prediction.csv\", index=False)"
      ],
      "execution_count": null,
      "outputs": []
    },
    {
      "cell_type": "code",
      "metadata": {
        "id": "CLH6W0Jc9Wvu"
      },
      "source": [
        ""
      ],
      "execution_count": null,
      "outputs": []
    }
  ]
}